{
  "nbformat": 4,
  "nbformat_minor": 0,
  "metadata": {
    "colab": {
      "provenance": []
    },
    "kernelspec": {
      "name": "python3",
      "display_name": "Python 3"
    },
    "language_info": {
      "name": "python"
    }
  },
  "cells": [
    {
      "cell_type": "markdown",
      "source": [
        "Q1. Discuss the scenarios where multithreading is preferable to multiprocessing and scenarios where\n",
        "multiprocessing is a better choice.\n",
        "\n",
        "Sol. Multithreading:-\n",
        "\n",
        "1. I/O Bound Task:-\n",
        "    \n",
        "   It is well suited for I/O related tasks, such as network requests,file I/O\n",
        "   or database operations, where therads can perform other tasks while waitinf for I/O operations to complete.\n",
        "\n",
        "2. Shared Memory Requirements:-\n",
        "\n",
        "    Threads within the same process can share data directly, which can be more efficient than the communication\n",
        "    mechanisms required between separate processes. This shared memory model simplifies data sharing and\n",
        "    coordination between threads.\n",
        "\n",
        "3. Low Mwmory Overhead:-\n",
        "\n",
        "   Threads are lightweight as compared to processes, which each have their own memory space. If memory is a constraint, threads allow more parallel operations with lower overhead.\n",
        "\n",
        "3. Adaptability to System Changes:-\n",
        "\n",
        "    Multithreaded applications are generally more adaptable to changes in system architecture, such as an\n",
        "    increase in the number of CPU cores. They can dynamically adjust to utilize available resources, ensuring\n",
        "    optimal performance on different hardware configurations.\n",
        "\n",
        "5. Task Division and Specialization:-\n",
        "\n",
        "   Threads within a program can be specialized to perform specific tasks, allowing for a more modular and\n",
        "   organized code structure. Each thread can focus on a particular aspect of the application, making the code\n",
        "   easier to understand, maintain, and debug.\n",
        "\n",
        "\n",
        "Multiprocessing:-\n",
        "\n",
        "1. CPU-Bound Tasks:-\n",
        "   \n",
        "    Multiprocessing is ideal for CPU-bound tasks that require heavy computation, as seperate process can fully utilize multiple CPU cores, overcoming Python's Global Interpreter Lock(GIL).\n",
        "\n",
        "2. Security and Memory Protection:-\n",
        "\n",
        "    Process have seperate memory spaces, providing greater security and isolation, which can be useful for applications handling sensitive data.\n",
        "\n",
        "3. Fault isolation and Stability:-\n",
        "\n",
        "    Processes have better isolation than threads, if one process crashes, others continue running unaffected. This makes multiprocessing a better choice for applications that require high reliability.\n",
        "\n",
        "4. Improved Responsiveness:-\n",
        "\n",
        "    Multiprocessing allows for background processing without affecting the\n",
        "    responsiveness of the main application. For example, in graphical user interfaces (GUIs), computationally\n",
        "    intensive tasks can be offloaded to separate processes, ensuring that the user interface remains responsive.\n",
        "\n",
        "\n"
      ],
      "metadata": {
        "id": "fVjQuyvObpAP"
      }
    },
    {
      "cell_type": "markdown",
      "source": [
        "\n",
        "\n",
        "---\n",
        "\n",
        "\n",
        "\n",
        "---\n",
        "\n"
      ],
      "metadata": {
        "id": "3XXU7yXXhdWk"
      }
    },
    {
      "cell_type": "markdown",
      "source": [
        "Q2.  Describe what a process pool is and how it helps in managing multiple processes efficiently.\n",
        "\n",
        "Sol. A process pool is a programming pattern for automatically managing a pool of worker processes. The Pool Class automatically distributes the tasks to the available processors using a FIFO scheduling manner. when you have a set of homogeneous tasks to be executed in parallel, the Pool class is used. It is used for data-based parallelism with the same function being executed on multiple input values with each input value being assigned to a process.\n",
        "\n",
        "Ways in which it helps in managing mi=ultiple process efficiently:-\n",
        "\n",
        "1. Reduced Overhead:-\n",
        "\n",
        "    Creating and destroying processes repeatedly can be resource-intensive. A process pool reduces this overhead by reusing the same processes for multiple tasks.\n",
        "\n",
        "2. Better Source Utilization:-\n",
        "\n",
        "    The fixed number of processes in a pool helps control system resource usage. By limiting the maximum number of active processes, the pool prevents system overload and keeps resource consumption predictable.\n",
        "\n",
        "3. Efficient Parallelism for short-lived Task;-\n",
        "\n",
        "    Process pools are especially beneficial for applications where each task is relatively short-lived. Without the need to spawn new processes for every task, the pool minimizes the overhead, allowing tasks to execute in rapid succession.\n",
        "\n",
        "4. Load Balancing and Task Management:-\n",
        "\n",
        "    By managing a queue of tasks and a limited number of workers, a process pool can ensure that all available resources are utilized efficiently without overwhelming the system.\n",
        "\n",
        "5. Simplified Code Management:-\n",
        "\n",
        "    Process pools abstract away much of the complexity of managing multiple processes. This simplifies code, as the developer doesn’t need to track the lifecycle of individual processes."
      ],
      "metadata": {
        "id": "DCrSf4kUzv2R"
      }
    },
    {
      "cell_type": "markdown",
      "source": [
        "\n",
        "\n",
        "---\n",
        "\n",
        "\n",
        "\n",
        "---\n",
        "\n"
      ],
      "metadata": {
        "id": "1xa_rZml1Yz_"
      }
    },
    {
      "cell_type": "markdown",
      "source": [
        "Q3. Explain what multiprocessing is and why it is used in Python programs.\n",
        "\n",
        "Sol. Multiprocessing is a programming and execution model that involves the concurrent execution of multiple processes. A process is an independent program that run in its own memory space and has its own resources. In multiprocessing, multiple processes run concurrently,  each with its oen set of instructions and data. These processes can communicate with each other through inter-process communication(IPC) mechanisms.\n",
        "\n",
        "Why multiprocessing is used in python:-\n",
        "\n",
        "1. Independence:-\n",
        "\n",
        "    In multiprocessing, each process has its own memory space and resources. Processes are independent of each\n",
        "    other, and communication between them requires explicit IPC mechanisms.\n",
        "\n",
        "2. Resource Utilization:-\n",
        "\n",
        "    Multiprocessing can take advantage of multiple CPU cores, as each process can run on a separate core.\n",
        "    Multiprocessing efficiently utilizes system resources by running multiple processes concurrently. This is essential for high-performance computing and applications with heavy computational workloads.\n",
        "\n",
        "3. Parallelism and Performance:-\n",
        "\n",
        "    Multiprocessing allows for true parallelism, enabling multiple processes to run simultaneously on multiple CPU cores. This leads to improved performance and faster execution of tasks.\n",
        "\n",
        "4. Scalibility:-\n",
        "\n",
        "    Multiprocessing enhances scalability in applications by leveraging the full potential of modern hardware,especially in systems with multiple processors or multicore architectures.\n",
        "\n",
        "5. Fault Isolation:-\n",
        "\n",
        "    Processes in multiprocessing are more isolated, providing better fault isolation. If one process crashes, it does not necessarily affect others."
      ],
      "metadata": {
        "id": "yPLxHLUVheS6"
      }
    },
    {
      "cell_type": "markdown",
      "source": [
        "\n",
        "\n",
        "---\n",
        "\n",
        "\n",
        "\n",
        "---\n",
        "\n"
      ],
      "metadata": {
        "id": "Lb3x1QoXluP9"
      }
    },
    {
      "cell_type": "markdown",
      "source": [
        "Q4. Write a Python program using multithreading where one thread adds numbers to a list, and another\n",
        "thread removes numbers from the list. Implement a mechanism to avoid race conditions using\n",
        "threading.Lock."
      ],
      "metadata": {
        "id": "RQ0KaBvZlvMA"
      }
    },
    {
      "cell_type": "code",
      "source": [
        "import threading\n",
        "import time\n",
        "import random\n",
        "\n",
        "# Shared list lock\n",
        "shared_list=[]\n",
        "Lock=threading.Lock()\n",
        "\n",
        "def add_list():\n",
        "  for i in range(10):\n",
        "    with Lock:\n",
        "      n=random.randint(1,100)\n",
        "      shared_list.append(n)\n",
        "      print(f\"Added {n} to list\")\n",
        "    time.sleep(0.5)\n",
        "\n",
        "def remove_list():\n",
        "  for i in range(10):\n",
        "    with Lock:\n",
        "      if shared_list:\n",
        "        r=shared_list.pop(0)\n",
        "        print(f\"Removed {r} from the list\")\n",
        "      else:\n",
        "        print(\"List is empty\")\n",
        "    time.sleep(0.5)\n",
        "\n",
        "p1=threading.Thread(target=add_list)\n",
        "p2=threading.Thread(target=remove_list)\n",
        "\n",
        "p1.start()\n",
        "p2.start()\n",
        "\n",
        "p1.join()\n",
        "p2.join()\n",
        "\n",
        "print(\"Final list: \",shared_list)"
      ],
      "metadata": {
        "colab": {
          "base_uri": "https://localhost:8080/"
        },
        "id": "cOYz0CZil_Gw",
        "outputId": "38a57ad2-9518-4f90-f388-1b242b0d6d44"
      },
      "execution_count": 3,
      "outputs": [
        {
          "output_type": "stream",
          "name": "stdout",
          "text": [
            "Added 83 to list\n",
            "Removed 83 from the list\n",
            "Added 52 to list\n",
            "Removed 52 from the list\n",
            "Added 21 to list\n",
            "Removed 21 from the list\n",
            "Added 90 to list\n",
            "Removed 90 from the list\n",
            "Added 76 to list\n",
            "Removed 76 from the list\n",
            "Added 5 to list\n",
            "Removed 5 from the list\n",
            "Added 8 to list\n",
            "Removed 8 from the list\n",
            "Added 10 to list\n",
            "Removed 10 from the list\n",
            "Added 88 to list\n",
            "Removed 88 from the list\n",
            "Added 26 to list\n",
            "Removed 26 from the list\n",
            "Final list:  []\n"
          ]
        }
      ]
    },
    {
      "cell_type": "markdown",
      "source": [
        "\n",
        "\n",
        "---\n",
        "\n",
        "\n",
        "\n",
        "---\n",
        "\n"
      ],
      "metadata": {
        "id": "xdowPj0FomdT"
      }
    },
    {
      "cell_type": "markdown",
      "source": [
        "Q5.  Describe the methods and tools available in Python for safely sharing data between threads and processes.\n",
        "\n",
        "Sol. For Threads:-\n",
        "\n",
        "1. Lock:-\n",
        "\n",
        "    A Lock is the simplest form of synchronization, used to restrict access to a shared resource to one thread at a time.\n",
        "\n",
        "2. RLock:-\n",
        "\n",
        "    A RLock (re-entrant lock) allows a thread that has already acquired the lock to acquire it again without blocking itself.This is useful in recursive functions or cases where the same lock needs to be acquired multiple times by the same thread.\n",
        "\n",
        "3. Semaphore:-\n",
        "\n",
        "    A semaphore is a counter that allows a set number of threads to access a shared resource concurrently.Semaphore is useful when you want to limit the number of threads accessing a resource rather than allowing only one at a time.\n",
        "\n",
        "4. Event:-\n",
        "\n",
        "    An Event is a synchronization primitive that can be set (to true) or cleared (to false).It allows one or more threads to wait for an event to occur before continuing execution.\n",
        "\n",
        "5. Condition:-\n",
        "\n",
        "    A Condition allows threads to wait for a particular condition to be met.\n",
        "    It is often used with Lock or RLock and includes wait() and notify() methods to pause threads until notified.\n",
        "\n",
        "6. Queue:-\n",
        "\n",
        "    Queue provides thread-safe data structures, such as FIFO (Queue), LIFO (LifoQueue), and priority queues (PriorityQueue).It has built-in locking, so threads can safely put and get items without additional synchronization.\n",
        "\n",
        "\n",
        "For Processes:-\n",
        "\n",
        "1. Queue:-\n",
        "\n",
        "    A Queue in multiprocessing allows processes to safely pass data between them.It’s implemented using pipes and offers thread-safe methods like put() and get() to enqueue and dequeue items.\n",
        "\n",
        "2. Pipe:-\n",
        "\n",
        "    A Pipe is a simple connection between two processes, allowing them to send data back and forth.It’s best suited for two-way communication between two processes.\n",
        "\n",
        "3. Value and Array:-\n",
        "\n",
        "    Value and Array are shared memory objects that allow data sharing between processes.Value is for single shared values, while Array is for arrays of data.Both provide synchronized access, making them suitable for sharing numbers and arrays between processes.\n",
        "\n",
        "4. Manager:-\n",
        "\n",
        "    A Manager provides a high-level way to share complex data structures, like lists, dictionaries, and other objects, among processes.Manager objects are more flexible than Value and Array, as they support various types of objects but have a bit more overhead.\n",
        "\n",
        "5. Lock:-\n",
        "\n",
        "    A Lock in multiprocessing ensures that only one process can access a shared resource at a time, similar to threading.Lock.Locks are essential for synchronizing access to shared resources across processes.\n",
        "\n",
        "6. Event:-\n",
        "\n",
        "    Event in multiprocessing works similarly to threading.Event, providing a way for processes to wait for signals or events to occur.\n"
      ],
      "metadata": {
        "id": "EM9CQjbIooJk"
      }
    },
    {
      "cell_type": "markdown",
      "source": [
        "\n",
        "\n",
        "---\n",
        "\n",
        "\n",
        "\n",
        "---\n",
        "\n"
      ],
      "metadata": {
        "id": "DVP1B9hzuChU"
      }
    },
    {
      "cell_type": "markdown",
      "source": [
        "Q6. Discuss why it’s crucial to handle exceptions in concurrent programs and the techniques available for doing so.\n",
        "\n",
        "Sol. Handling exceptions in concurrent programs is crucial for ensuring reliability, stability, and proper resource management. Unlike in single-threaded programs, unhandled exceptions in concurrent programs (multithreaded or multiprocessed) can lead to issues like resource leaks, deadlocks, partial results, and unpredictable application behavior.\n",
        "\n",
        "Why necessary to handle exceptions:-\n",
        "\n",
        "1. Preventing Resource Leaks:\n",
        "    Threads and processes often share resources like files, sockets, and memory. If an exception occurs without proper handling, these resources may not be released, leading to resource leaks.\n",
        "\n",
        "2. Ensuring Task Completion:\n",
        "\n",
        "    In concurrent programs, tasks may depend on each other. If one task fails without an exception handler, it could disrupt the workflow or prevent other tasks from completing.\n",
        "\n",
        "3. Avoiding Deadlocks and Data Corruption:\n",
        "\n",
        "    In multithreading, exceptions can lead to improper release of locks or incomplete updates to shared data, causing deadlocks or data corruption.\n",
        "\n",
        "4. Providing Consistent and Predictable Behavior:\n",
        "\n",
        "    Without handling exceptions, concurrent programs may produce inconsistent results or crash unpredictably, which is especially problematic in large systems with multiple interacting threads or processes.\n",
        "\n",
        "Techniques for exception Handling:-\n",
        "\n",
        "1. try-execept:-\n",
        "\n",
        "    Place try-except blocks within each worker function (the function being executed by each thread or process) to catch exceptions early and handle them at the task level.\n",
        "\n",
        "2. Using concurrent.futures:-\n",
        "\n",
        "    When using future.result(), if an exception occurred in the task, it will be raised at this point, allowing you to handle it at the main thread level.\n",
        "\n",
        "3. Using Multiprocessing.Pool:-\n",
        "\n",
        "    multiprocessing.Pool does not propagate exceptions in the same way as ThreadPoolExecutor. To capture and handle exceptions, use apply_async() with an error callback to handle exceptions on completion.\n",
        "\n",
        "4. Using logging:-\n",
        "\n",
        "    Logging is an essential tool for tracking errors and is especially helpful in concurrent applications where exceptions may be hard to monitor in real time.\n",
        "\n",
        "5. Retry mechanism and Fallback:-\n",
        "\n",
        "    In cases where a failure is expected to be transient, use retry mechanisms to reattempt the task after a failure. Implementing a fallback function can also provide alternative behavior if a task fails consistently, maintaining partial functionality and preventing a full application failure."
      ],
      "metadata": {
        "id": "hgtZCYd_uDvB"
      }
    },
    {
      "cell_type": "markdown",
      "source": [
        "\n",
        "\n",
        "---\n",
        "\n",
        "\n",
        "\n",
        "---\n",
        "\n"
      ],
      "metadata": {
        "id": "o4lG-YIbzr6I"
      }
    },
    {
      "cell_type": "markdown",
      "source": [
        "Q7. Create a program that uses a thread pool to calculate the factorial of numbers from 1 to 10 concurrently.\n",
        "Use concurrent.futures.ThreadPoolExecutor to manage the threads."
      ],
      "metadata": {
        "id": "j_JzZzoDpnMT"
      }
    },
    {
      "cell_type": "code",
      "source": [
        "import concurrent.futures\n",
        "import math\n",
        "\n",
        "def calculate_factorial(n):\n",
        "    result = math.factorial(n)\n",
        "    print(f\"Factorial of {n} is {result}\")\n",
        "    return result\n",
        "\n",
        "def result():\n",
        "    numbers = range(1, 11)\n",
        "    with concurrent.futures.ThreadPoolExecutor(max_workers=5) as executor:\n",
        "        results = executor.map(calculate_factorial, numbers)\n",
        "    print(\"Factorials computed successfully.\")\n",
        "\n",
        "result()"
      ],
      "metadata": {
        "colab": {
          "base_uri": "https://localhost:8080/"
        },
        "id": "qmeAX7IyqhCw",
        "outputId": "3671c04e-03cb-4f15-86cc-edf86d2953b9"
      },
      "execution_count": 5,
      "outputs": [
        {
          "output_type": "stream",
          "name": "stdout",
          "text": [
            "Factorial of 1 is 1\n",
            "Factorial of 2 is 2\n",
            "Factorial of 3 is 6Factorial of 4 is 24\n",
            "\n",
            "Factorial of 5 is 120Factorial of 6 is 720\n",
            "Factorial of 7 is 5040\n",
            "Factorial of 8 is 40320\n",
            "\n",
            "Factorial of 9 is 362880\n",
            "Factorial of 10 is 3628800\n",
            "Factorials computed successfully.\n"
          ]
        }
      ]
    },
    {
      "cell_type": "markdown",
      "source": [
        "\n",
        "\n",
        "---\n",
        "\n",
        "---\n",
        "\n",
        "\n",
        "\n"
      ],
      "metadata": {
        "id": "lJziLTONrQkq"
      }
    },
    {
      "cell_type": "markdown",
      "source": [
        "Q8.  Create a Python program that uses multiprocessing.Pool to compute the square of numbers from 1 to 10 in\n",
        "parallel. Measure the time taken to perform this computation using a pool of different sizes (e.g., 2, 4, 8\n",
        "processes)."
      ],
      "metadata": {
        "id": "hvcREumCrSYl"
      }
    },
    {
      "cell_type": "code",
      "source": [
        "import multiprocessing\n",
        "import time\n",
        "\n",
        "def square(n):\n",
        "  return n**2\n",
        "\n",
        "def compute_sq(pool_size,number):\n",
        "  start=time.perf_counter()\n",
        "  with multiprocessing.Pool(processes=pool_size) as pool:\n",
        "    result=pool.map(square,number)\n",
        "\n",
        "  end=time.perf_counter()\n",
        "  print(f\"Pool size {pool_size}: Result = {result}, Time taken = {end-start} seconds\")\n",
        "\n",
        "def process():\n",
        "  n=range(1,10)\n",
        "  s=[2,4,8]\n",
        "  for i in s:\n",
        "    compute_sq(i,n)\n",
        "\n",
        "process()"
      ],
      "metadata": {
        "colab": {
          "base_uri": "https://localhost:8080/"
        },
        "id": "jTVHz8daq9qT",
        "outputId": "2d08d301-6b7a-4de4-871d-5ec92fb1798e"
      },
      "execution_count": 6,
      "outputs": [
        {
          "output_type": "stream",
          "name": "stdout",
          "text": [
            "Pool size 2: Result = [1, 4, 9, 16, 25, 36, 49, 64, 81], Time taken = 0.06696233599996049 seconds\n",
            "Pool size 4: Result = [1, 4, 9, 16, 25, 36, 49, 64, 81], Time taken = 0.08200004900027125 seconds\n",
            "Pool size 8: Result = [1, 4, 9, 16, 25, 36, 49, 64, 81], Time taken = 0.1741480529999535 seconds\n"
          ]
        }
      ]
    }
  ]
}